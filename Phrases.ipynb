{
  "cells": [
    {
      "cell_type": "code",
      "execution_count": 4,
      "id": "059b668b",
      "metadata": {
        "colab": {
          "base_uri": "https://localhost:8080/"
        },
        "id": "059b668b",
        "outputId": "3b26a98f-dc0d-4237-c3be-9f704e08b477"
      },
      "outputs": [
        {
          "output_type": "stream",
          "name": "stderr",
          "text": [
            "[nltk_data] Downloading package wordnet to /root/nltk_data...\n",
            "[nltk_data]   Package wordnet is already up-to-date!\n",
            "[nltk_data] Downloading package wordnet to /root/nltk_data...\n",
            "[nltk_data]   Package wordnet is already up-to-date!\n",
            "[nltk_data] Downloading package stopwords to /root/nltk_data...\n",
            "[nltk_data]   Package stopwords is already up-to-date!\n",
            "[nltk_data] Downloading package omw-1.4 to /root/nltk_data...\n",
            "[nltk_data]   Package omw-1.4 is already up-to-date!\n"
          ]
        },
        {
          "output_type": "execute_result",
          "data": {
            "text/plain": [
              "True"
            ]
          },
          "metadata": {},
          "execution_count": 4
        }
      ],
      "source": [
        "import numpy as np\n",
        "import matplotlib.pyplot as plt\n",
        "import pandas as pd\n",
        "import seaborn as sns\n",
        "import nltk\n",
        "from bs4 import BeautifulSoup\n",
        "\n",
        "from utils.utils import *\n",
        "from nltk.corpus import stopwords\n",
        "from sklearn.feature_extraction.text import CountVectorizer\n",
        "\n",
        "nltk.download('wordnet')\n",
        "nltk.download('stopwords')\n",
        "nltk.download('omw-1.4')"
      ]
    },
    {
      "cell_type": "code",
      "execution_count": 5,
      "id": "7948248f",
      "metadata": {
        "colab": {
          "base_uri": "https://localhost:8080/",
          "height": 337
        },
        "id": "7948248f",
        "outputId": "fe8add5d-92cd-4258-dd68-fef0fab8dad3"
      },
      "outputs": [
        {
          "output_type": "execute_result",
          "data": {
            "text/plain": [
              "    post_id  parent_id                                              Title  \\\n",
              "0  68831096        NaN  Why can't std::stringstream be default constru...   \n",
              "1  68831096        NaN  Why can't std::stringstream be default constru...   \n",
              "2  68831096        NaN  Why can't std::stringstream be default constru...   \n",
              "3  68831099        NaN                   Transform an Array in JavaScript   \n",
              "4  68831099        NaN                   Transform an Array in JavaScript   \n",
              "\n",
              "                                           post_text     com_id  \\\n",
              "0  <p>The following compiles fine (on g++ 8.3.0-6...  121644544   \n",
              "1  <p>The following compiles fine (on g++ 8.3.0-6...  121644785   \n",
              "2  <p>The following compiles fine (on g++ 8.3.0-6...  121644610   \n",
              "3  <p>I  have a simple problem that I can't solve...  121644586   \n",
              "4  <p>I  have a simple problem that I can't solve...  121644602   \n",
              "\n",
              "                                            com_text  com_user_id  reputation  \\\n",
              "0  works fine with newer version https://godbolt....      4117728       81863   \n",
              "1  Seems to be the same question: [Why GCC doesn'...      7976805       14493   \n",
              "2     Looks like compiler bug, it works with GCC 9.1      7976805       14493   \n",
              "3  there should be examples of how to do this, it...       301774        6388   \n",
              "4  https://stackoverflow.com/questions/37075180/c...       301774        6388   \n",
              "\n",
              "                    dt  \n",
              "0  2021-08-18 10:59:42  \n",
              "1  2021-08-18 10:59:42  \n",
              "2  2021-08-18 10:59:42  \n",
              "3  2021-08-18 10:59:46  \n",
              "4  2021-08-18 10:59:46  "
            ],
            "text/html": [
              "\n",
              "  <div id=\"df-5dfc0ee2-198b-4c15-86b7-530d12226f58\">\n",
              "    <div class=\"colab-df-container\">\n",
              "      <div>\n",
              "<style scoped>\n",
              "    .dataframe tbody tr th:only-of-type {\n",
              "        vertical-align: middle;\n",
              "    }\n",
              "\n",
              "    .dataframe tbody tr th {\n",
              "        vertical-align: top;\n",
              "    }\n",
              "\n",
              "    .dataframe thead th {\n",
              "        text-align: right;\n",
              "    }\n",
              "</style>\n",
              "<table border=\"1\" class=\"dataframe\">\n",
              "  <thead>\n",
              "    <tr style=\"text-align: right;\">\n",
              "      <th></th>\n",
              "      <th>post_id</th>\n",
              "      <th>parent_id</th>\n",
              "      <th>Title</th>\n",
              "      <th>post_text</th>\n",
              "      <th>com_id</th>\n",
              "      <th>com_text</th>\n",
              "      <th>com_user_id</th>\n",
              "      <th>reputation</th>\n",
              "      <th>dt</th>\n",
              "    </tr>\n",
              "  </thead>\n",
              "  <tbody>\n",
              "    <tr>\n",
              "      <th>0</th>\n",
              "      <td>68831096</td>\n",
              "      <td>NaN</td>\n",
              "      <td>Why can't std::stringstream be default constru...</td>\n",
              "      <td>&lt;p&gt;The following compiles fine (on g++ 8.3.0-6...</td>\n",
              "      <td>121644544</td>\n",
              "      <td>works fine with newer version https://godbolt....</td>\n",
              "      <td>4117728</td>\n",
              "      <td>81863</td>\n",
              "      <td>2021-08-18 10:59:42</td>\n",
              "    </tr>\n",
              "    <tr>\n",
              "      <th>1</th>\n",
              "      <td>68831096</td>\n",
              "      <td>NaN</td>\n",
              "      <td>Why can't std::stringstream be default constru...</td>\n",
              "      <td>&lt;p&gt;The following compiles fine (on g++ 8.3.0-6...</td>\n",
              "      <td>121644785</td>\n",
              "      <td>Seems to be the same question: [Why GCC doesn'...</td>\n",
              "      <td>7976805</td>\n",
              "      <td>14493</td>\n",
              "      <td>2021-08-18 10:59:42</td>\n",
              "    </tr>\n",
              "    <tr>\n",
              "      <th>2</th>\n",
              "      <td>68831096</td>\n",
              "      <td>NaN</td>\n",
              "      <td>Why can't std::stringstream be default constru...</td>\n",
              "      <td>&lt;p&gt;The following compiles fine (on g++ 8.3.0-6...</td>\n",
              "      <td>121644610</td>\n",
              "      <td>Looks like compiler bug, it works with GCC 9.1</td>\n",
              "      <td>7976805</td>\n",
              "      <td>14493</td>\n",
              "      <td>2021-08-18 10:59:42</td>\n",
              "    </tr>\n",
              "    <tr>\n",
              "      <th>3</th>\n",
              "      <td>68831099</td>\n",
              "      <td>NaN</td>\n",
              "      <td>Transform an Array in JavaScript</td>\n",
              "      <td>&lt;p&gt;I  have a simple problem that I can't solve...</td>\n",
              "      <td>121644586</td>\n",
              "      <td>there should be examples of how to do this, it...</td>\n",
              "      <td>301774</td>\n",
              "      <td>6388</td>\n",
              "      <td>2021-08-18 10:59:46</td>\n",
              "    </tr>\n",
              "    <tr>\n",
              "      <th>4</th>\n",
              "      <td>68831099</td>\n",
              "      <td>NaN</td>\n",
              "      <td>Transform an Array in JavaScript</td>\n",
              "      <td>&lt;p&gt;I  have a simple problem that I can't solve...</td>\n",
              "      <td>121644602</td>\n",
              "      <td>https://stackoverflow.com/questions/37075180/c...</td>\n",
              "      <td>301774</td>\n",
              "      <td>6388</td>\n",
              "      <td>2021-08-18 10:59:46</td>\n",
              "    </tr>\n",
              "  </tbody>\n",
              "</table>\n",
              "</div>\n",
              "      <button class=\"colab-df-convert\" onclick=\"convertToInteractive('df-5dfc0ee2-198b-4c15-86b7-530d12226f58')\"\n",
              "              title=\"Convert this dataframe to an interactive table.\"\n",
              "              style=\"display:none;\">\n",
              "        \n",
              "  <svg xmlns=\"http://www.w3.org/2000/svg\" height=\"24px\"viewBox=\"0 0 24 24\"\n",
              "       width=\"24px\">\n",
              "    <path d=\"M0 0h24v24H0V0z\" fill=\"none\"/>\n",
              "    <path d=\"M18.56 5.44l.94 2.06.94-2.06 2.06-.94-2.06-.94-.94-2.06-.94 2.06-2.06.94zm-11 1L8.5 8.5l.94-2.06 2.06-.94-2.06-.94L8.5 2.5l-.94 2.06-2.06.94zm10 10l.94 2.06.94-2.06 2.06-.94-2.06-.94-.94-2.06-.94 2.06-2.06.94z\"/><path d=\"M17.41 7.96l-1.37-1.37c-.4-.4-.92-.59-1.43-.59-.52 0-1.04.2-1.43.59L10.3 9.45l-7.72 7.72c-.78.78-.78 2.05 0 2.83L4 21.41c.39.39.9.59 1.41.59.51 0 1.02-.2 1.41-.59l7.78-7.78 2.81-2.81c.8-.78.8-2.07 0-2.86zM5.41 20L4 18.59l7.72-7.72 1.47 1.35L5.41 20z\"/>\n",
              "  </svg>\n",
              "      </button>\n",
              "      \n",
              "  <style>\n",
              "    .colab-df-container {\n",
              "      display:flex;\n",
              "      flex-wrap:wrap;\n",
              "      gap: 12px;\n",
              "    }\n",
              "\n",
              "    .colab-df-convert {\n",
              "      background-color: #E8F0FE;\n",
              "      border: none;\n",
              "      border-radius: 50%;\n",
              "      cursor: pointer;\n",
              "      display: none;\n",
              "      fill: #1967D2;\n",
              "      height: 32px;\n",
              "      padding: 0 0 0 0;\n",
              "      width: 32px;\n",
              "    }\n",
              "\n",
              "    .colab-df-convert:hover {\n",
              "      background-color: #E2EBFA;\n",
              "      box-shadow: 0px 1px 2px rgba(60, 64, 67, 0.3), 0px 1px 3px 1px rgba(60, 64, 67, 0.15);\n",
              "      fill: #174EA6;\n",
              "    }\n",
              "\n",
              "    [theme=dark] .colab-df-convert {\n",
              "      background-color: #3B4455;\n",
              "      fill: #D2E3FC;\n",
              "    }\n",
              "\n",
              "    [theme=dark] .colab-df-convert:hover {\n",
              "      background-color: #434B5C;\n",
              "      box-shadow: 0px 1px 3px 1px rgba(0, 0, 0, 0.15);\n",
              "      filter: drop-shadow(0px 1px 2px rgba(0, 0, 0, 0.3));\n",
              "      fill: #FFFFFF;\n",
              "    }\n",
              "  </style>\n",
              "\n",
              "      <script>\n",
              "        const buttonEl =\n",
              "          document.querySelector('#df-5dfc0ee2-198b-4c15-86b7-530d12226f58 button.colab-df-convert');\n",
              "        buttonEl.style.display =\n",
              "          google.colab.kernel.accessAllowed ? 'block' : 'none';\n",
              "\n",
              "        async function convertToInteractive(key) {\n",
              "          const element = document.querySelector('#df-5dfc0ee2-198b-4c15-86b7-530d12226f58');\n",
              "          const dataTable =\n",
              "            await google.colab.kernel.invokeFunction('convertToInteractive',\n",
              "                                                     [key], {});\n",
              "          if (!dataTable) return;\n",
              "\n",
              "          const docLinkHtml = 'Like what you see? Visit the ' +\n",
              "            '<a target=\"_blank\" href=https://colab.research.google.com/notebooks/data_table.ipynb>data table notebook</a>'\n",
              "            + ' to learn more about interactive tables.';\n",
              "          element.innerHTML = '';\n",
              "          dataTable['output_type'] = 'display_data';\n",
              "          await google.colab.output.renderOutput(dataTable, element);\n",
              "          const docLink = document.createElement('div');\n",
              "          docLink.innerHTML = docLinkHtml;\n",
              "          element.appendChild(docLink);\n",
              "        }\n",
              "      </script>\n",
              "    </div>\n",
              "  </div>\n",
              "  "
            ]
          },
          "metadata": {},
          "execution_count": 5
        }
      ],
      "source": [
        "df = pd.read_csv('QueryResults(1).csv')\n",
        "df.head()"
      ]
    },
    {
      "cell_type": "code",
      "execution_count": 6,
      "id": "8ed6c3ec",
      "metadata": {
        "id": "8ed6c3ec"
      },
      "outputs": [],
      "source": [
        "post_text = [BeautifulSoup(s, 'html.parser').text for s in list(set(df['post_text'].fillna('')))]\n",
        "com_text = list(set(df['com_text'].fillna('')))\n",
        "title_text = list(set(df['Title'].fillna('')))\n",
        "text = post_text + com_text + title_text"
      ]
    },
    {
      "cell_type": "code",
      "execution_count": 7,
      "id": "6207ccf7",
      "metadata": {
        "id": "6207ccf7"
      },
      "outputs": [],
      "source": [
        " # Разделим текст на предложения\n",
        "lst = split_text(text)"
      ]
    },
    {
      "cell_type": "code",
      "execution_count": 8,
      "id": "c608c45c",
      "metadata": {
        "colab": {
          "base_uri": "https://localhost:8080/"
        },
        "id": "c608c45c",
        "outputId": "62446424-7e9f-4bf7-e6c8-d4aae447f111"
      },
      "outputs": [
        {
          "output_type": "stream",
          "name": "stderr",
          "text": [
            "/usr/local/lib/python3.7/dist-packages/sklearn/feature_extraction/text.py:401: UserWarning: Your stop_words may be inconsistent with your preprocessing. Tokenizing the stop words generated tokens ['doe', 'ha', 'wa'] not in stop_words.\n",
            "  % sorted(inconsistent)\n"
          ]
        },
        {
          "output_type": "stream",
          "name": "stdout",
          "text": [
            "CPU times: user 42.7 s, sys: 1.36 s, total: 44 s\n",
            "Wall time: 44.1 s\n"
          ]
        }
      ],
      "source": [
        "%%time\n",
        " # Составим словарь частоты повторения фраз длины 2\n",
        "stop_words = stopwords.words('english')\n",
        "cr = CountVectorizer(max_features = 300, ngram_range=(2,2), preprocessor = my_cool_preprocessor, stop_words = stop_words)\n",
        "cr_vector=cr.fit_transform(lst).toarray()"
      ]
    },
    {
      "cell_type": "code",
      "execution_count": 12,
      "id": "3c526494",
      "metadata": {
        "colab": {
          "base_uri": "https://localhost:8080/"
        },
        "id": "3c526494",
        "outputId": "a2b7b104-1261-4009-cdc1-d23c439e30db"
      },
      "outputs": [
        {
          "output_type": "stream",
          "name": "stderr",
          "text": [
            "/usr/local/lib/python3.7/dist-packages/sklearn/utils/deprecation.py:87: FutureWarning: Function get_feature_names is deprecated; get_feature_names is deprecated in 1.0 and will be removed in 1.2. Please use get_feature_names_out instead.\n",
            "  warnings.warn(msg, category=FutureWarning)\n"
          ]
        },
        {
          "output_type": "stream",
          "name": "stdout",
          "text": [
            "CPU times: user 3.41 s, sys: 11.8 ms, total: 3.42 s\n",
            "Wall time: 3.95 s\n"
          ]
        }
      ],
      "source": [
        "%%time\n",
        "names = cr.get_feature_names()\n",
        "count = [np.sum(cr_vector[:,i]) for i in range(cr_vector.shape[1])]\n",
        "dc = sort_dict(dict(zip(names, count)))"
      ]
    },
    {
      "cell_type": "code",
      "source": [
        "sorted(dict(zip(names, count)).items(), key=lambda item: item[1], reverse=True)"
      ],
      "metadata": {
        "colab": {
          "base_uri": "https://localhost:8080/"
        },
        "id": "6_7uXoN8c_nr",
        "outputId": "28ec9a87-82fb-4e7c-cfe1-9a451a5be17f"
      },
      "id": "6_7uXoN8c_nr",
      "execution_count": 14,
      "outputs": [
        {
          "output_type": "execute_result",
          "data": {
            "text/plain": [
              "[('div class', 2517),\n",
              " ('div div', 2433),\n",
              " ('http stackoverflow', 2276),\n",
              " ('look like', 1556),\n",
              " ('com question', 1488),\n",
              " ('http www', 1349),\n",
              " ('text text', 1204),\n",
              " ('something like', 1133),\n",
              " ('td td', 1100),\n",
              " ('java org', 1065),\n",
              " ('would like', 1005),\n",
              " ('http github', 840),\n",
              " ('public void', 805),\n",
              " ('error message', 783),\n",
              " ('type text', 765),\n",
              " ('http doc', 752),\n",
              " ('public class', 750),\n",
              " ('thank much', 731),\n",
              " ('input type', 709),\n",
              " ('answer question', 688),\n",
              " ('get error', 657),\n",
              " ('work fine', 625),\n",
              " ('get set', 622),\n",
              " ('background color', 574),\n",
              " ('make sure', 570),\n",
              " ('site package', 557),\n",
              " ('class form', 534),\n",
              " ('getting error', 515),\n",
              " ('make sense', 511),\n",
              " ('doe work', 509),\n",
              " ('public static', 500),\n",
              " ('want use', 491),\n",
              " ('option option', 490),\n",
              " ('option value', 486),\n",
              " ('groupid artifactid', 485),\n",
              " ('file user', 477),\n",
              " ('na na', 469),\n",
              " ('lib python', 458),\n",
              " ('src http', 445),\n",
              " ('int main', 443),\n",
              " ('public string', 442),\n",
              " ('width px', 439),\n",
              " ('override public', 429),\n",
              " ('need use', 424),\n",
              " ('error error', 422),\n",
              " ('id id', 418),\n",
              " ('http localhost', 416),\n",
              " ('please help', 415),\n",
              " ('dependency dependency', 405),\n",
              " ('dependency groupid', 404),\n",
              " ('export default', 395),\n",
              " ('script src', 384),\n",
              " ('com en', 383),\n",
              " ('following error', 381),\n",
              " ('height px', 377),\n",
              " ('font size', 373),\n",
              " ('url http', 370),\n",
              " ('every time', 369),\n",
              " ('let know', 369),\n",
              " ('img src', 365),\n",
              " ('visual studio', 362),\n",
              " ('could use', 360),\n",
              " ('create new', 360),\n",
              " ('return true', 352),\n",
              " ('solve problem', 350),\n",
              " ('th th', 350),\n",
              " ('name name', 348),\n",
              " ('div id', 345),\n",
              " ('div classname', 344),\n",
              " ('see http', 344),\n",
              " ('set public', 344),\n",
              " ('doe answer', 342),\n",
              " ('seems like', 342),\n",
              " ('px px', 340),\n",
              " ('artifactid version', 338),\n",
              " ('__init__ self', 337),\n",
              " ('csv file', 337),\n",
              " ('java android', 331),\n",
              " ('http developer', 326),\n",
              " ('data data', 324),\n",
              " ('return value', 324),\n",
              " ('text align', 324),\n",
              " ('following code', 322),\n",
              " ('spring boot', 321),\n",
              " ('content type', 320),\n",
              " ('return false', 320),\n",
              " ('code work', 319),\n",
              " ('react native', 315),\n",
              " ('appdata local', 313),\n",
              " ('span class', 313),\n",
              " ('sql server', 313),\n",
              " ('thanks advance', 313),\n",
              " ('int int', 307),\n",
              " ('thanks lot', 307),\n",
              " ('com help', 306),\n",
              " ('td tr', 306),\n",
              " ('form control', 303),\n",
              " ('function return', 301),\n",
              " ('add new', 297),\n",
              " ('align center', 297),\n",
              " ('value value', 297),\n",
              " ('column name', 293),\n",
              " ('dp android', 292),\n",
              " ('usr lib', 291),\n",
              " ('command line', 285),\n",
              " ('json file', 285),\n",
              " ('user user', 285),\n",
              " ('return new', 284),\n",
              " ('std cout', 283),\n",
              " ('java com', 282),\n",
              " ('rat cat', 282),\n",
              " ('cat rat', 281),\n",
              " ('edit question', 277),\n",
              " ('pip install', 277),\n",
              " ('static void', 276),\n",
              " ('android layout_height', 275),\n",
              " ('npm err', 275),\n",
              " ('android layout_width', 274),\n",
              " ('df df', 269),\n",
              " ('tot jaar', 268),\n",
              " ('li li', 266),\n",
              " ('else return', 265),\n",
              " ('use case', 265),\n",
              " ('also tried', 264),\n",
              " ('program file', 264),\n",
              " ('private string', 263),\n",
              " ('groupid org', 262),\n",
              " ('std string', 262),\n",
              " ('import java', 261),\n",
              " ('usr local', 260),\n",
              " ('could please', 259),\n",
              " ('std vector', 259),\n",
              " ('tr td', 259),\n",
              " ('application json', 258),\n",
              " ('create table', 258),\n",
              " ('def __init__', 258),\n",
              " ('nan nan', 257),\n",
              " ('class col', 256),\n",
              " ('primary key', 256),\n",
              " ('return div', 256),\n",
              " ('even though', 255),\n",
              " ('item item', 255),\n",
              " ('button div', 254),\n",
              " ('source code', 254),\n",
              " ('import org', 253),\n",
              " ('thanks help', 253),\n",
              " ('reproducible example', 251),\n",
              " ('stack overflow', 251),\n",
              " ('using system', 250),\n",
              " ('wa able', 248),\n",
              " ('width height', 248),\n",
              " ('expected output', 247),\n",
              " ('tried using', 246),\n",
              " ('java java', 245),\n",
              " ('void main', 245),\n",
              " ('hello world', 243),\n",
              " ('doe exist', 240),\n",
              " ('data type', 239),\n",
              " ('give error', 239),\n",
              " ('break case', 238),\n",
              " ('color color', 237),\n",
              " ('version dependency', 237),\n",
              " ('list string', 235),\n",
              " ('python python', 235),\n",
              " ('trying use', 235),\n",
              " ('type string', 235),\n",
              " ('best way', 231),\n",
              " ('method post', 231),\n",
              " ('net core', 230),\n",
              " ('px solid', 230),\n",
              " ('public function', 229),\n",
              " ('df pd', 228),\n",
              " ('list list', 228),\n",
              " ('button button', 227),\n",
              " ('file name', 227),\n",
              " ('would need', 227),\n",
              " ('get data', 226),\n",
              " ('line code', 223),\n",
              " ('sample data', 223),\n",
              " ('working fine', 223),\n",
              " ('call function', 222),\n",
              " ('docker compose', 222),\n",
              " ('uint _t', 222),\n",
              " ('class btn', 221),\n",
              " ('org doc', 221),\n",
              " ('updated answer', 221),\n",
              " ('app web', 217),\n",
              " ('let say', 217),\n",
              " ('new date', 217),\n",
              " ('run code', 217),\n",
              " ('btn btn', 216),\n",
              " ('padding px', 216),\n",
              " ('python lib', 215),\n",
              " ('async function', 214),\n",
              " ('got error', 214),\n",
              " ('private void', 214),\n",
              " ('key value', 213),\n",
              " ('data frame', 212),\n",
              " ('text file', 212),\n",
              " ('button class', 211),\n",
              " ('get following', 211),\n",
              " ('chr chr', 210),\n",
              " ('android id', 209),\n",
              " ('charset utf', 209),\n",
              " ('user input', 209),\n",
              " ('script script', 208),\n",
              " ('end end', 207),\n",
              " ('lib site', 206),\n",
              " ('need add', 206),\n",
              " ('please check', 206),\n",
              " ('rel stylesheet', 206),\n",
              " ('border px', 205),\n",
              " ('work well', 205),\n",
              " ('size px', 204),\n",
              " ('string name', 204),\n",
              " ('display flex', 203),\n",
              " ('get value', 203),\n",
              " ('import react', 202),\n",
              " ('recent call', 202),\n",
              " ('something else', 201),\n",
              " ('call last', 200),\n",
              " ('justify content', 200),\n",
              " ('str varchar', 200),\n",
              " ('label input', 199),\n",
              " ('usr bin', 199),\n",
              " ('varchar str', 199),\n",
              " ('traceback recent', 198),\n",
              " ('tr tr', 197),\n",
              " ('trying create', 197),\n",
              " ('trying get', 197),\n",
              " ('want create', 197),\n",
              " ('br br', 196),\n",
              " ('example http', 196),\n",
              " ('first time', 196),\n",
              " ('href http', 196),\n",
              " ('http en', 196),\n",
              " ('sound like', 196),\n",
              " ('take look', 196),\n",
              " ('make work', 195),\n",
              " ('span div', 195),\n",
              " ('win amd', 192),\n",
              " ('cannot find', 191),\n",
              " ('ct ct', 191),\n",
              " ('exact true', 191),\n",
              " ('main string', 191),\n",
              " ('type button', 191),\n",
              " ('want add', 190),\n",
              " ('thanks answer', 189),\n",
              " ('android studio', 188),\n",
              " ('variable name', 188),\n",
              " ('want get', 188),\n",
              " ('build lib', 187),\n",
              " ('end sub', 187),\n",
              " ('please provide', 187),\n",
              " ('public int', 187),\n",
              " ('return result', 187),\n",
              " ('wrap_content android', 187),\n",
              " ('string args', 186),\n",
              " ('itemprops exact', 185),\n",
              " ('top px', 185),\n",
              " ('want make', 185),\n",
              " ('line line', 184),\n",
              " ('font weight', 183),\n",
              " ('include iostream', 183),\n",
              " ('code snippet', 182),\n",
              " ('return self', 182),\n",
              " ('help would', 181),\n",
              " ('import package', 181),\n",
              " ('fa fa', 180),\n",
              " ('html html', 180),\n",
              " ('better way', 179),\n",
              " ('button type', 179),\n",
              " ('file directory', 179),\n",
              " ('position absolute', 179),\n",
              " ('react import', 179),\n",
              " ('span span', 179),\n",
              " ('type application', 179),\n",
              " ('body html', 178),\n",
              " ('http schema', 178),\n",
              " ('import panda', 178),\n",
              " ('left join', 178),\n",
              " ('self self', 178),\n",
              " ('try use', 178),\n",
              " ('code import', 177),\n",
              " ('link http', 177),\n",
              " ('return null', 177),\n",
              " ('would work', 177),\n",
              " ('api call', 176),\n",
              " ('map string', 176),\n",
              " ('work perfectly', 176),\n",
              " ('col md', 175),\n",
              " ('key key', 175),\n",
              " ('match_parent android', 175),\n",
              " ('private static', 175),\n",
              " ('button onclick', 174),\n",
              " ('error code', 174),\n",
              " ('head body', 174),\n",
              " ('panda pd', 174),\n",
              " ('would use', 174),\n",
              " ('com doc', 173)]"
            ]
          },
          "metadata": {},
          "execution_count": 14
        }
      ]
    },
    {
      "cell_type": "markdown",
      "id": "cf09041d",
      "metadata": {
        "id": "cf09041d"
      },
      "source": [
        "Исключим фразы с некоторыми словами, которые используются только для написания кода.\n",
        "Есть и другие \"вредные\" фразы, слова, но определить их всех очень тяжело"
      ]
    },
    {
      "cell_type": "code",
      "execution_count": 19,
      "id": "782868da",
      "metadata": {
        "id": "782868da"
      },
      "outputs": [],
      "source": [
        "words = ['http', 'int', 'float', 'com', 'nan', 'html', 'href', 'div']\n",
        "chk_pat = '(?:{})'.format('|'.join(words))\n",
        "dc1 = {k:v for k, v in dc.items() if not bool(re.search(chk_pat, k, flags=re.I))}"
      ]
    },
    {
      "cell_type": "code",
      "execution_count": 20,
      "id": "f61ad0bc",
      "metadata": {
        "colab": {
          "base_uri": "https://localhost:8080/",
          "height": 472
        },
        "id": "f61ad0bc",
        "outputId": "f54b6748-5b19-4ca6-a0ce-9fc6057db1dd"
      },
      "outputs": [
        {
          "output_type": "display_data",
          "data": {
            "text/plain": [
              "<Figure size 1008x504 with 1 Axes>"
            ],
            "image/png": "[encoded data removed]"
          },
          "metadata": {}
        }
      ],
      "source": [
        "sns.set(font_scale=1.3)\n",
        "plt.figure(figsize=(14, 7))\n",
        "plt.subplots_adjust(hspace=0.5)\n",
        "\n",
        "plt.title('Number of repetitions of words in sentences')\n",
        "plt.barh(list(dc1.keys())[:7][::-1], list(dc1.values())[:7][::-1], color=['b', 'g', 'r', 'm', 'y', 'k'])\n",
        "plt.xlabel('number')\n",
        "\n",
        "plt.show()"
      ]
    },
    {
      "cell_type": "code",
      "execution_count": 21,
      "id": "e18a2fbe",
      "metadata": {
        "colab": {
          "base_uri": "https://localhost:8080/",
          "height": 504
        },
        "id": "e18a2fbe",
        "outputId": "e3853d8c-498a-4a1d-bb36-9628bc5b7ba4"
      },
      "outputs": [
        {
          "output_type": "display_data",
          "data": {
            "text/plain": [
              "<Figure size 1152x504 with 2 Axes>"
            ],
            "image/png": "[encoded data removed]"
          },
          "metadata": {}
        }
      ],
      "source": [
        "plot_history(dc1, a = 200, b = 15, xtitle = False)"
      ]
    },
    {
      "cell_type": "code",
      "execution_count": null,
      "id": "c2543338",
      "metadata": {
        "id": "c2543338"
      },
      "outputs": [],
      "source": [
        " # сохраним в файл csv\n",
        "history_path_to_save='./phrases2.csv'\n",
        "pd.DataFrame(list(dc1.items())).to_csv(history_path_to_save, index = False)"
      ]
    },
    {
      "cell_type": "markdown",
      "id": "898866bd",
      "metadata": {
        "id": "898866bd"
      },
      "source": [
        "# Фразы из 3-х слов"
      ]
    },
    {
      "cell_type": "code",
      "execution_count": 22,
      "id": "b7f2a1d7",
      "metadata": {
        "colab": {
          "base_uri": "https://localhost:8080/"
        },
        "id": "b7f2a1d7",
        "outputId": "19724514-1afc-4d99-d9d0-1ccbc4c43768"
      },
      "outputs": [
        {
          "output_type": "stream",
          "name": "stderr",
          "text": [
            "/usr/local/lib/python3.7/dist-packages/sklearn/feature_extraction/text.py:401: UserWarning: Your stop_words may be inconsistent with your preprocessing. Tokenizing the stop words generated tokens ['doe', 'ha', 'wa'] not in stop_words.\n",
            "  % sorted(inconsistent)\n"
          ]
        },
        {
          "output_type": "stream",
          "name": "stdout",
          "text": [
            "CPU times: user 45.1 s, sys: 1.39 s, total: 46.4 s\n",
            "Wall time: 50.1 s\n"
          ]
        }
      ],
      "source": [
        "%%time\n",
        "stop_words = stopwords.words('english')\n",
        "cr1 = CountVectorizer(max_features = 300, ngram_range=(3,3), preprocessor = my_cool_preprocessor, stop_words = stop_words)\n",
        "cr_vector1=cr1.fit_transform(lst).toarray()"
      ]
    },
    {
      "cell_type": "code",
      "execution_count": 23,
      "id": "a690b3c5",
      "metadata": {
        "colab": {
          "base_uri": "https://localhost:8080/"
        },
        "id": "a690b3c5",
        "outputId": "eaac2d98-4af7-4c71-dc6b-d191e939fec3"
      },
      "outputs": [
        {
          "output_type": "stream",
          "name": "stderr",
          "text": [
            "/usr/local/lib/python3.7/dist-packages/sklearn/utils/deprecation.py:87: FutureWarning: Function get_feature_names is deprecated; get_feature_names is deprecated in 1.0 and will be removed in 1.2. Please use get_feature_names_out instead.\n",
            "  warnings.warn(msg, category=FutureWarning)\n"
          ]
        },
        {
          "output_type": "stream",
          "name": "stdout",
          "text": [
            "CPU times: user 3.02 s, sys: 5.43 ms, total: 3.02 s\n",
            "Wall time: 3 s\n"
          ]
        }
      ],
      "source": [
        "%%time\n",
        "names1 = cr1.get_feature_names()\n",
        "count1 = [np.sum(cr_vector1[:,i]) for i in range(cr_vector1.shape[1])]\n",
        "dc1 = sort_dict(dict(zip(names1, count1)))"
      ]
    },
    {
      "cell_type": "code",
      "execution_count": 28,
      "id": "980e1f4b",
      "metadata": {
        "colab": {
          "base_uri": "https://localhost:8080/"
        },
        "id": "980e1f4b",
        "outputId": "4cf28e1b-715e-4859-f0da-df7caf9b8c03"
      },
      "outputs": [
        {
          "output_type": "execute_result",
          "data": {
            "text/plain": [
              "[('text text text', 1038),\n",
              " ('div div class', 871),\n",
              " ('div div div', 782),\n",
              " ('dependency dependency groupid', 372),\n",
              " ('na na na', 364),\n",
              " ('td td td', 358),\n",
              " ('doe answer question', 330),\n",
              " ('option option value', 330),\n",
              " ('get set public', 324),\n",
              " ('input type text', 305),\n",
              " ('override public void', 285),\n",
              " ('rat cat rat', 265),\n",
              " ('cat rat cat', 263),\n",
              " ('class form control', 260),\n",
              " ('def __init__ self', 257),\n",
              " ('text align center', 253),\n",
              " ('script src http', 251),\n",
              " ('div class col', 226),\n",
              " ('android id id', 209),\n",
              " ('lib site package', 206),\n",
              " ('version dependency dependency', 204),\n",
              " ('dependency groupid org', 201),\n",
              " ('str varchar str', 199),\n",
              " ('varchar str varchar', 199),\n",
              " ('recent call last', 198),\n",
              " ('traceback recent call', 198),\n",
              " ('font size px', 194),\n",
              " ('public static void', 194),\n",
              " ('border px solid', 188),\n",
              " ('ct ct ct', 186),\n",
              " ('itemprops exact true', 185),\n",
              " ('class btn btn', 180),\n",
              " ('nan nan nan', 177),\n",
              " ('static void main', 175),\n",
              " ('import panda pd', 174),\n",
              " ('td tr tr', 173),\n",
              " ('main string args', 168),\n",
              " ('void main string', 168),\n",
              " ('import numpy np', 164),\n",
              " ('content type application', 157),\n",
              " ('invalid length startup', 157),\n",
              " ('length startup packet', 157),\n",
              " ('log invalid length', 156),\n",
              " ('utc log invalid', 156),\n",
              " ('px height px', 152),\n",
              " ('class fa fa', 151),\n",
              " ('get following error', 151),\n",
              " ('android layout_width match_parent', 150),\n",
              " ('call last file', 150),\n",
              " ('bigint intg bigint', 149),\n",
              " ('com ajax libs', 149),\n",
              " ('intg bigint intg', 149),\n",
              " ('layout_width match_parent android', 149),\n",
              " ('org en doc', 146),\n",
              " ('div class form', 145),\n",
              " ('match_parent android layout_height', 145),\n",
              " ('minimal reproducible example', 145),\n",
              " ('tr tr td', 145),\n",
              " ('answer http stackoverflow', 142),\n",
              " ('label input type', 141),\n",
              " ('android layout_height wrap_content', 140),\n",
              " ('width px height', 140),\n",
              " ('class form group', 139),\n",
              " ('doctype html html', 139),\n",
              " ('en doc web', 139),\n",
              " ('appdata local program', 138),\n",
              " ('px px px', 137),\n",
              " ('local program python', 136),\n",
              " ('program python python', 136),\n",
              " ('type application json', 136),\n",
              " ('set public string', 134),\n",
              " ('library ruby gem', 133),\n",
              " ('int main int', 129),\n",
              " ('br br br', 128),\n",
              " ('yyyy mm dd', 128),\n",
              " ('script script src', 127),\n",
              " ('please let know', 125),\n",
              " ('question http stackoverflow', 124),\n",
              " ('enter image description', 123),\n",
              " ('dart import package', 121),\n",
              " ('link rel stylesheet', 121),\n",
              " ('type text class', 119),\n",
              " ('div class container', 117),\n",
              " ('layout_height wrap_content android', 117),\n",
              " ('using namespace std', 115),\n",
              " ('align item center', 114),\n",
              " ('cannot read property', 113),\n",
              " ('flex justify content', 112),\n",
              " ('copying src lxml', 110),\n",
              " ('doe anyone know', 110),\n",
              " ('init static let', 110),\n",
              " ('meta charset utf', 109),\n",
              " ('button type button', 108),\n",
              " ('lib go src', 108),\n",
              " ('site package django', 108),\n",
              " ('usr lib go', 108),\n",
              " ('button div div', 107),\n",
              " ('please edit question', 105),\n",
              " ('include iostream include', 104),\n",
              " ('appdata local temp', 102),\n",
              " ('div class row', 102),\n",
              " ('header content type', 102),\n",
              " ('python python lib', 101),\n",
              " ('border radius px', 100),\n",
              " ('rel stylesheet href', 100),\n",
              " ('var body view', 100),\n",
              " ('td td class', 99),\n",
              " ('div class modal', 98),\n",
              " ('type text javascript', 97),\n",
              " ('example http stackoverflow', 96),\n",
              " ('artifactid dependency dependency', 95),\n",
              " ('head meta charset', 95),\n",
              " ('img src http', 95),\n",
              " ('justify content center', 95),\n",
              " ('go src net', 94),\n",
              " ('option value option', 94),\n",
              " ('py build lib', 94),\n",
              " ('widget build buildcontext', 94),\n",
              " ('build buildcontext context', 93),\n",
              " ('debug wire http', 93),\n",
              " ('object ha attribute', 93),\n",
              " ('see http stackoverflow', 93),\n",
              " ('style text align', 93),\n",
              " ('import react react', 92),\n",
              " ('src http cdnjs', 92),\n",
              " ('button class btn', 91),\n",
              " ('div export default', 91),\n",
              " ('look something like', 91),\n",
              " ('span div div', 90),\n",
              " ('usr local lib', 90),\n",
              " ('xsl value select', 90),\n",
              " ('buildcontext context return', 89),\n",
              " ('python lib site', 89),\n",
              " ('width device width', 89),\n",
              " ('chr chr chr', 88),\n",
              " ('file frozen importlib', 88),\n",
              " ('meta name viewport', 88),\n",
              " ('class col md', 87),\n",
              " ('name viewport content', 87),\n",
              " ('return div classname', 87),\n",
              " ('content width device', 86),\n",
              " ('div class card', 86),\n",
              " ('max width px', 86),\n",
              " ('override widget build', 86),\n",
              " ('viewport content width', 85),\n",
              " ('datetime insert testdata', 84),\n",
              " ('dolor sit amet', 84),\n",
              " ('insert testdata select', 84),\n",
              " ('margin top px', 84),\n",
              " ('value option option', 84),\n",
              " ('display inline block', 83),\n",
              " ('html lang en', 83),\n",
              " ('script type text', 83),\n",
              " ('dependency groupid com', 81),\n",
              " ('help minimal reproducible', 81),\n",
              " ('com help minimal', 80),\n",
              " ('private static final', 80),\n",
              " ('typeerror cannot read', 80),\n",
              " ('access control allow', 78),\n",
              " ('html html lang', 78),\n",
              " ('form group label', 77),\n",
              " ('spring boot starter', 77),\n",
              " ('type text name', 77),\n",
              " ('groupid artifactid spring', 76),\n",
              " ('react react import', 76),\n",
              " ('ajax libs jquery', 75),\n",
              " ('btn btn primary', 75),\n",
              " ('numpy np import', 75),\n",
              " ('help would appreciated', 74),\n",
              " ('http sender dispatcher', 74),\n",
              " ('input type checkbox', 74),\n",
              " ('wire http sender', 74),\n",
              " ('container div class', 73),\n",
              " ('px width px', 73),\n",
              " ('welcome stack overflow', 73),\n",
              " ('android layout_height dp', 72),\n",
              " ('com en dotnet', 72),\n",
              " ('gyp verb failed', 72),\n",
              " ('let keypress key', 72),\n",
              " ('local lib python', 72),\n",
              " ('static let keypress', 72),\n",
              " ('textinput attrs placeholder', 72),\n",
              " ('would greatly appreciated', 72),\n",
              " ('android layout_width wrap_content', 71),\n",
              " ('chat http chat', 71),\n",
              " ('padding px px', 71),\n",
              " ('com room discussion', 70),\n",
              " ('div class flex', 70),\n",
              " ('lang en head', 70),\n",
              " ('layout_width wrap_content android', 70),\n",
              " ('wrap_content android layout_height', 70),\n",
              " ('div div classname', 69),\n",
              " ('jar opt kafka_', 69),\n",
              " ('charset utf meta', 68),\n",
              " ('normal block ac', 68),\n",
              " ('panda pd import', 68),\n",
              " ('button type submit', 67),\n",
              " ('doc web javascript', 67),\n",
              " ('override protected void', 67),\n",
              " ('python lib python', 67),\n",
              " ('read property undefined', 67),\n",
              " ('usr local bin', 67),\n",
              " ('code look like', 66),\n",
              " ('continue discussion chat', 66),\n",
              " ('discussion chat http', 66),\n",
              " ('form control mt', 66),\n",
              " ('heroku python lib', 66),\n",
              " ('let continue discussion', 66),\n",
              " ('li li href', 66),\n",
              " ('reproducible example http', 66),\n",
              " ('text class form', 66),\n",
              " ('would like know', 66),\n",
              " ('li li class', 65),\n",
              " ('px background color', 65),\n",
              " ('row div class', 65),\n",
              " ('type button class', 65),\n",
              " ('cs rel stylesheet', 64),\n",
              " ('div div id', 64),\n",
              " ('std vector std', 64),\n",
              " ('visual studio code', 64),\n",
              " ('apt get install', 63),\n",
              " ('aria hidden true', 63),\n",
              " ('html html head', 63),\n",
              " ('property undefined reading', 62),\n",
              " ('style border px', 62),\n",
              " ('gem cocoapods core', 61),\n",
              " ('lib cocoapods core', 61),\n",
              " ('public async task', 61),\n",
              " ('title head body', 61),\n",
              " ('android layout_height match_parent', 60),\n",
              " ('android layout_margintop dp', 60),\n",
              " ('charfield required false', 60),\n",
              " ('class row div', 60),\n",
              " ('height px width', 60),\n",
              " ('layout_height dp android', 60),\n",
              " ('web javascript reference', 60),\n",
              " ('en head meta', 59),\n",
              " ('lorem ipsum dolor', 59),\n",
              " ('self return self', 59),\n",
              " ('debug nio exec', 58),\n",
              " ('export default function', 58),\n",
              " ('fo table cell', 58),\n",
              " ('meta http equiv', 58),\n",
              " ('position absolute top', 58),\n",
              " ('script body html', 58),\n",
              " ('shadow px px', 58),\n",
              " ('text decoration none', 58),\n",
              " ('thank much help', 58),\n",
              " ('thumbnail preview indicator', 58),\n",
              " ('android textsize sp', 57),\n",
              " ('app src main', 57),\n",
              " ('dbl dbl dbl', 57),\n",
              " ('getting following error', 57),\n",
              " ('library dplyr library', 57),\n",
              " ('would look like', 57),\n",
              " ('ipsum dolor sit', 56),\n",
              " ('query alter table', 56),\n",
              " ('react router dom', 56),\n",
              " ('scope dependency dependency', 56),\n",
              " ('type text id', 56),\n",
              " ('amet consectetur adipisicing', 55),\n",
              " ('catch error console', 55),\n",
              " ('consectetur adipisicing elit', 55),\n",
              " ('doc web api', 55),\n",
              " ('edit question include', 55),\n",
              " ('namespace std int', 55),\n",
              " ('akbari profil spieler', 54),\n",
              " ('class tg lax', 54),\n",
              " ('display flex flex', 54),\n",
              " ('fa fa star', 54),\n",
              " ('font weight bold', 54),\n",
              " ('import package flutter', 54),\n",
              " ('label div div', 54),\n",
              " ('modulenotfounderror module named', 54),\n",
              " ('rahmat akbari profil', 54),\n",
              " ('sit amet consectetur', 54),\n",
              " ('std vector int', 54),\n",
              " ('type text cs', 54),\n",
              " ('accept application json', 53),\n",
              " ('com help ask', 53),\n",
              " ('content ie edge', 53),\n",
              " ('control allow origin', 53),\n",
              " ('equiv ua compatible', 53),\n",
              " ('http equiv ua', 53),\n",
              " ('input type radio', 53),\n",
              " ('local temp pip', 53),\n",
              " ('style width px', 53),\n",
              " ('display flex justify', 52),\n",
              " ('div class box', 52),\n",
              " ('else return false', 52),\n",
              " ('keep getting error', 52),\n",
              " ('layout_margintop dp android', 52),\n",
              " ('li ul div', 52),\n",
              " ('mm dd hh', 52),\n",
              " ('option value pm', 52),\n",
              " ('public void onclick', 52),\n",
              " ('test option option', 52),\n",
              " ('unknown source java', 52),\n",
              " ('int int int', 51),\n",
              " ('void onclick view', 51)]"
            ]
          },
          "metadata": {},
          "execution_count": 28
        }
      ],
      "source": [
        "sorted(dict(zip(names1, count1)).items(), key=lambda item: item[1], reverse=True)"
      ]
    },
    {
      "cell_type": "markdown",
      "id": "ad506993",
      "metadata": {
        "id": "ad506993"
      },
      "source": [
        "Исключим фразы с некоторыми словами, которые используются только для написания кода.\n",
        "Есть и другие \"вредные\" фразы, слова, но определить их всех очень тяжело. Поэтому я нашёл первую \"осмысленную\" фразу и убрал все фразы с большей частотой. Так я оставил фразы только частоты <= частота 'enter image description'"
      ]
    },
    {
      "cell_type": "code",
      "execution_count": 29,
      "id": "ee7e27fa",
      "metadata": {
        "id": "ee7e27fa"
      },
      "outputs": [],
      "source": [
        " # Исключим фразы с некоторыми словами, \n",
        " # которые используются при написания кода\n",
        "words = ['http', 'int', 'float', 'com', 'nan', 'html', 'href']\n",
        "chk_pat = '(?:{})'.format('|'.join(words))\n",
        "dc2 = {k:v for k, v in dc1.items() if v <= dc1['enter image description'] and not bool(re.search(chk_pat, k, flags=re.I))}"
      ]
    },
    {
      "cell_type": "code",
      "execution_count": 30,
      "id": "9ec8bfb5",
      "metadata": {
        "colab": {
          "base_uri": "https://localhost:8080/",
          "height": 472
        },
        "id": "9ec8bfb5",
        "outputId": "90e06b99-a376-4644-ad20-cd9f17c54959"
      },
      "outputs": [
        {
          "output_type": "display_data",
          "data": {
            "text/plain": [
              "<Figure size 1008x504 with 1 Axes>"
            ],
            "image/png": "[encoded data removed]"
          },
          "metadata": {}
        }
      ],
      "source": [
        "sns.set(font_scale=1.3)\n",
        "plt.figure(figsize=(14, 7))\n",
        "plt.subplots_adjust(hspace=0.5)\n",
        "\n",
        "plt.title('Number of repetitions of words in sentences')\n",
        "plt.barh(list(dc2.keys())[:7][::-1], list(dc2.values())[:7][::-1], color=['b', 'g', 'r', 'm', 'y', 'k'])\n",
        "plt.xlabel('number')\n",
        "\n",
        "plt.show()"
      ]
    },
    {
      "cell_type": "code",
      "execution_count": 31,
      "id": "18f669f3",
      "metadata": {
        "colab": {
          "base_uri": "https://localhost:8080/",
          "height": 504
        },
        "id": "18f669f3",
        "outputId": "920be548-3408-4e5a-bd3f-b52199c38246"
      },
      "outputs": [
        {
          "output_type": "display_data",
          "data": {
            "text/plain": [
              "<Figure size 1152x504 with 2 Axes>"
            ],
            "image/png": "[encoded data removed]"
          },
          "metadata": {}
        }
      ],
      "source": [
        "plot_history(dc2, a = 200, b = 21, xtitle = False)"
      ]
    },
    {
      "cell_type": "code",
      "execution_count": null,
      "id": "cbf4a85e",
      "metadata": {
        "id": "cbf4a85e"
      },
      "outputs": [],
      "source": [
        " # сохраним в файл csv\n",
        "history_path_to_save='./phrases3.csv'\n",
        "pd.DataFrame(list(dc2.items())).to_csv(history_path_to_save, index = False)"
      ]
    },
    {
      "cell_type": "markdown",
      "id": "19ea55e4",
      "metadata": {
        "id": "19ea55e4"
      },
      "source": [
        "# Выводы"
      ]
    },
    {
      "cell_type": "markdown",
      "id": "afce4751",
      "metadata": {
        "id": "afce4751"
      },
      "source": [
        "Заметим, что частотный анализ фраз, состоящих из 3-х и 2-х слов оказался плохим. Пришлось ставить ограничение на частоту фразы и отдельно исключать фразы с \"вредными\" словами: \"http\", \"href\" и так далее. В общем случае это довольно трудоемкий процесс\n",
        "\n",
        "Можно сделать вывод, что искать фразы лучше другим способом"
      ]
    },
    {
      "cell_type": "code",
      "execution_count": null,
      "id": "4c9933c0",
      "metadata": {
        "id": "4c9933c0"
      },
      "outputs": [],
      "source": [
        ""
      ]
    }
  ],
  "metadata": {
    "kernelspec": {
      "display_name": "Python 3",
      "language": "python",
      "name": "python3"
    },
    "language_info": {
      "codemirror_mode": {
        "name": "ipython",
        "version": 3
      },
      "file_extension": ".py",
      "mimetype": "text/x-python",
      "name": "python",
      "nbconvert_exporter": "python",
      "pygments_lexer": "ipython3",
      "version": "3.8.8"
    },
    "colab": {
      "name": "Phrases.ipynb",
      "provenance": [],
      "collapsed_sections": []
    }
  },
  "nbformat": 4,
  "nbformat_minor": 5
}